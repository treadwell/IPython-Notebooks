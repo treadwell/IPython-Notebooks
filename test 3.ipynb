{
 "metadata": {
  "name": "test 3"
 },
 "nbformat": 3,
 "nbformat_minor": 0,
 "worksheets": [
  {
   "cells": [
    {
     "cell_type": "code",
     "collapsed": false,
     "input": [
      "# this should show up on the pc tomorrow\n",
      "\n",
      "# and now on mac"
     ],
     "language": "python",
     "metadata": {},
     "outputs": []
    }
   ],
   "metadata": {}
  }
 ]
}