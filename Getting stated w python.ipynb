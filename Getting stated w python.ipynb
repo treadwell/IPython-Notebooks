{
 "metadata": {
  "name": ""
 },
 "nbformat": 3,
 "nbformat_minor": 0,
 "worksheets": [
  {
   "cells": [
    {
     "cell_type": "raw",
     "metadata": {},
     "source": [
      "# Notes from Getting Started with Python, Matplotlib and Pandas\n",
      "# Matt Harrison @__harrison__ October 28th, 2013 O'Reilly Strata\n",
      "#\n",
      "#  Wrote Business Intelligence in Python \n",
      "\n",
      "Three keys:  dir, help, and :/indent\n",
      "\n",
      "In python people keep a REPL handy  (whatever that is...)"
     ]
    },
    {
     "cell_type": "code",
     "collapsed": false,
     "input": [
      "print (\"hello world\")  # REPL Read, Evaluate, Print, Loop\n"
     ],
     "language": "python",
     "metadata": {},
     "outputs": [
      {
       "output_type": "stream",
       "stream": "stdout",
       "text": [
        "hello world\n"
       ]
      }
     ],
     "prompt_number": 3
    },
    {
     "cell_type": "raw",
     "metadata": {},
     "source": [
      "In Python 3 \"print\" isn't a statement, but a function:\n",
      "\n",
      "print(\"hello world\")\n",
      "\n",
      "Objects\n",
      "- have an identity\n",
      "- has a value that can be mutable or immutable"
     ]
    }
   ],
   "metadata": {}
  }
 ]
}