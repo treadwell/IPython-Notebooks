{
 "metadata": {
  "name": ""
 },
 "nbformat": 3,
 "nbformat_minor": 0,
 "worksheets": [
  {
   "cells": [
    {
     "cell_type": "code",
     "collapsed": false,
     "input": [
      "# build a function factory (look it up)\n",
      "\n",
      "def f(c):               # fixes c in the equation\n",
      "    def g(x):           # returns g(x) = x + c\n",
      "        return x + c\n",
      "    return g            # returns the whole thing with a specific c\n",
      "\n",
      "\n",
      "a = 5\n",
      "\n",
      "print f(a)     # function x + 5\n",
      "print f(a)(4)  # sets x = 4 and returns value"
     ],
     "language": "python",
     "metadata": {},
     "outputs": [
      {
       "output_type": "stream",
       "stream": "stdout",
       "text": [
        "<function g at 0x1040d5cf8>\n",
        "9\n"
       ]
      }
     ],
     "prompt_number": 2
    },
    {
     "cell_type": "code",
     "collapsed": false,
     "input": [
      "#    Objective: build a series of functions (in a list) that will return\n",
      "#    the associated sequential values in any named list.\n",
      "#    Then use the same approach to return a similar series of functions\n",
      "#    that will return the cumulative sums through that same index.\n",
      "\n",
      "test_list = [10, 11, 13, 13, 14, 15, 16]\n",
      "\n",
      "def f(index):               # fixes index in the function\n",
      "    def g():                # returns g() = index\n",
      "        return index\n",
      "    return g                # returns the whole thing with a specific c\n",
      "\n",
      "assert f(1)() == 1\n",
      "assert [10, 11, 13, 13, 14, 15, 16][f(1)()] == 11\n",
      "\n",
      "# now build a list of functions - that's why we needed the nesting in the first place\n",
      "\n",
      "results = []\n",
      "for i in xrange(5):\n",
      "    results.append(f(i))\n",
      "    \n",
      "print results\n",
      "for result in results:\n",
      "    print result(), test_list[result()], test_list[:result()+1], sum(test_list[:result()+1])\n",
      "    \n"
     ],
     "language": "python",
     "metadata": {},
     "outputs": [
      {
       "output_type": "stream",
       "stream": "stdout",
       "text": [
        "[<function g at 0x1040dc230>, <function g at 0x1040d5a28>, <function g at 0x104a8db90>, <function g at 0x104a8ded8>, <function g at 0x104a8da28>]\n",
        "0 10 [10] 10\n",
        "1 11 [10, 11] 21\n",
        "2 13 [10, 11, 13] 34\n",
        "3 13 [10, 11, 13, 13] 47\n",
        "4 14 [10, 11, 13, 13, 14] 61\n"
       ]
      }
     ],
     "prompt_number": 23
    },
    {
     "cell_type": "code",
     "collapsed": false,
     "input": [
      "# now build the sequential list, results\n",
      "\n",
      "results = []\n",
      "\n",
      "for i in xrange(5):\n",
      "    def f(any_list):\n",
      "        return any_list[i]\n",
      "    results.append(f(i))\n",
      "    \n",
      "print results\n",
      "\n",
      "def g(i):\n",
      "    def h(any_list):\n",
      "        return any_list[i]\n",
      "    return \n",
      "\n",
      "print test_list\n",
      "\n",
      "# can do it with lambda, too:\n",
      "\n",
      "\n",
      "\n",
      "\n",
      "# Now build a list of functions that each calculate a separate ith position from 0 to j"
     ],
     "language": "python",
     "metadata": {},
     "outputs": []
    },
    {
     "cell_type": "code",
     "collapsed": false,
     "input": [
      "import copy\n",
      "\n",
      "myfuns = []\n",
      "myfun2s = []\n",
      "\n",
      "counter = []\n",
      "\n",
      "for i in xrange(5):\n",
      "    counter.append('anything')\n",
      "    def myfun():\n",
      "        return len(counter)\n",
      "    myfuns.append(myfun)\n",
      "    def myfun2():\n",
      "        return len(list(counter))  # copy of counter\n",
      "    myfun2s.append(myfun2)\n",
      "    \n",
      "print counter, len(counter), len(list(counter))\n",
      "\n",
      "for f in myfuns:\n",
      "   print f()\n",
      "\n",
      "for f in myfun2s:\n",
      "   print f()\n",
      "    \n",
      "for f in myfun3s:\n",
      "    print f()\n",
      "    \n",
      "# I don't think this demonstrates anything..."
     ],
     "language": "python",
     "metadata": {},
     "outputs": [
      {
       "output_type": "stream",
       "stream": "stdout",
       "text": [
        "['anything', 'anything', 'anything', 'anything', 'anything'] 5 5\n",
        "5\n",
        "5\n",
        "5\n",
        "5\n",
        "5\n",
        "5\n",
        "5\n",
        "5\n",
        "5\n",
        "5\n",
        "5\n",
        "5\n",
        "5\n",
        "5\n",
        "5\n"
       ]
      }
     ],
     "prompt_number": 19
    },
    {
     "cell_type": "code",
     "collapsed": false,
     "input": [
      "test_list = [10, 11, 13, 13, 14, 15, 16]\n",
      "\n",
      "my_functions = []\n",
      "\n",
      "for i in xrange(5):\n",
      "    def c(i):\n",
      "        def inner_c():\n",
      "            return i\n",
      "        return inner_c\n",
      "    my_functions.append(c(i))\n",
      "    \n",
      "print \"My functions with inner function:\"\n",
      "print my_functions\n",
      "print test_list[my_functions[0]()]\n",
      "print my_functions[1]()\n",
      "print my_functions[2]()\n",
      "print my_functions[3]()\n",
      "print my_functions[4]()\n",
      "    \n",
      "# now try it with no inner function to reset i and again with \"copy\" or \"list\" or something else that kills the reference\n",
      "\n",
      "my_functions2 = []\n",
      "for i in xrange(5):\n",
      "    def c(i):\n",
      "        return lambda i:i\n",
      "    my_functions2.append(c(i))\n",
      "    \n",
      "#print my_functions2\n",
      "#print my_functions2[0]()\n",
      "#print my_functions2[1]()\n",
      "#print my_functions2[2]()\n",
      "#print my_functions2[3]()\n",
      "#print my_functions2[4]()"
     ],
     "language": "python",
     "metadata": {},
     "outputs": []
    },
    {
     "cell_type": "code",
     "collapsed": false,
     "input": [
      "def square_root(x): return math.sqrt(x)"
     ],
     "language": "python",
     "metadata": {},
     "outputs": [],
     "prompt_number": 5
    },
    {
     "cell_type": "code",
     "collapsed": false,
     "input": [
      "import math\n",
      "square_root = lambda x: math.sqrt(x)\n",
      "\n",
      "print square_root(4)"
     ],
     "language": "python",
     "metadata": {},
     "outputs": [
      {
       "output_type": "stream",
       "stream": "stdout",
       "text": [
        "2.0\n"
       ]
      }
     ],
     "prompt_number": 21
    },
    {
     "cell_type": "code",
     "collapsed": false,
     "input": [
      "demand = [1,2,3,4,5,6,7,8,9,10]\n",
      "print demand[2:]\n",
      "print demand[2:8]\n"
     ],
     "language": "python",
     "metadata": {},
     "outputs": [
      {
       "output_type": "stream",
       "stream": "stdout",
       "text": [
        "[3, 4, 5, 6, 7, 8, 9, 10]\n"
       ]
      }
     ],
     "prompt_number": 1
    },
    {
     "cell_type": "code",
     "collapsed": false,
     "input": [
      "    new = []\n",
      "    old = [1, 2, 3, 4]\n",
      "    i = 0\n",
      "    while i <= len(old):\n",
      "        i += 1\n",
      "        new.append(old[i])\n",
      "\n",
      "\n",
      "\n",
      "    for i in range(len(x)): #!!!!\n",
      "        print x[i]*i\n",
      "\n",
      "    i = 0\n",
      "    for element in x:\n",
      "        element * i\n",
      "        i += 1\n",
      "\n",
      "    (a, b) = (2, 3)\n",
      "\n",
      "    q = (1, 3, 5, 7)\n",
      "    r = (2, 4, 6, 8)\n",
      "    \n",
      "\n",
      "    for a, b in zip(q, r):\n",
      "        print a + b\n",
      "    \n",
      "    for (a, b) in [(1, 2), (3, 4)]:\n",
      "        print a + b"
     ],
     "language": "python",
     "metadata": {},
     "outputs": [
      {
       "ename": "IndexError",
       "evalue": "list index out of range",
       "output_type": "pyerr",
       "traceback": [
        "\u001b[0;31m---------------------------------------------------------------------------\u001b[0m\n\u001b[0;31mIndexError\u001b[0m                                Traceback (most recent call last)",
        "\u001b[0;32m<ipython-input-1-24c69a47ab1f>\u001b[0m in \u001b[0;36m<module>\u001b[0;34m()\u001b[0m\n\u001b[1;32m      4\u001b[0m \u001b[0;32mwhile\u001b[0m \u001b[0mi\u001b[0m \u001b[0;34m<=\u001b[0m \u001b[0mlen\u001b[0m\u001b[0;34m(\u001b[0m\u001b[0mold\u001b[0m\u001b[0;34m)\u001b[0m\u001b[0;34m:\u001b[0m\u001b[0;34m\u001b[0m\u001b[0m\n\u001b[1;32m      5\u001b[0m     \u001b[0mi\u001b[0m \u001b[0;34m+=\u001b[0m \u001b[0;36m1\u001b[0m\u001b[0;34m\u001b[0m\u001b[0m\n\u001b[0;32m----> 6\u001b[0;31m     \u001b[0mnew\u001b[0m\u001b[0;34m.\u001b[0m\u001b[0mappend\u001b[0m\u001b[0;34m(\u001b[0m\u001b[0mold\u001b[0m\u001b[0;34m[\u001b[0m\u001b[0mi\u001b[0m\u001b[0;34m]\u001b[0m\u001b[0;34m)\u001b[0m\u001b[0;34m\u001b[0m\u001b[0m\n\u001b[0m\u001b[1;32m      7\u001b[0m \u001b[0;34m\u001b[0m\u001b[0m\n\u001b[1;32m      8\u001b[0m \u001b[0;34m\u001b[0m\u001b[0m\n",
        "\u001b[0;31mIndexError\u001b[0m: list index out of range"
       ]
      }
     ],
     "prompt_number": 1
    },
    {
     "cell_type": "code",
     "collapsed": false,
     "input": [
      "##############################    \n",
      "    count = [3*i for i in range(len(x))]\n",
      "\n",
      "    for i, element in zip(count, x):\n",
      "        print element * i\n",
      "    \n",
      "    for i, element in enumerate(x):\n",
      "        print element * (3*i)\n",
      "\n",
      "# google \"python idioms\"\n",
      "        \n",
      "##############################    \n",
      "\n",
      "a = [5]\n",
      "print a + a + a\n",
      "print a*3"
     ],
     "language": "python",
     "metadata": {},
     "outputs": []
    },
    {
     "cell_type": "code",
     "collapsed": false,
     "input": [
      "# Multiply two vectors element wise using zip and list comprehension:\n",
      "\n",
      "A = [1, 2, 3, 4]\n",
      "B = [5, 6, 7, 8]\n",
      "\n",
      "AXB = [a*b for a, b in zip(A, B)]\n",
      "\n",
      "print AXB"
     ],
     "language": "python",
     "metadata": {},
     "outputs": [
      {
       "output_type": "stream",
       "stream": "stdout",
       "text": [
        "[5, 12, 21, 32]\n"
       ]
      }
     ],
     "prompt_number": 2
    },
    {
     "cell_type": "code",
     "collapsed": false,
     "input": [
      "# Questions\n",
      "# 1. any way to do a cumulative sum w list comprehension?"
     ],
     "language": "python",
     "metadata": {},
     "outputs": []
    },
    {
     "cell_type": "code",
     "collapsed": false,
     "input": [
      "# from itertools import accumulate  # python 3...\n",
      "# look up itertools for 2.7\n",
      "\n",
      "lis=[4,6,12]\n",
      "\n",
      "#list(accumulate(lis))\n",
      "#[4, 10, 22]\n",
      "\n",
      "lissum = [sum(lis[:i+1]) for i in xrange(len(lis))]\n",
      "# do this with enumerate?\n",
      "\n",
      "\n",
      "print lissum"
     ],
     "language": "python",
     "metadata": {},
     "outputs": [
      {
       "output_type": "stream",
       "stream": "stdout",
       "text": [
        "[4, 10, 22]\n"
       ]
      }
     ],
     "prompt_number": 8
    },
    {
     "cell_type": "heading",
     "level": 1,
     "metadata": {},
     "source": [
      "Function Composition"
     ]
    },
    {
     "cell_type": "code",
     "collapsed": false,
     "input": [
      "def f(x, y):\n",
      "    return x + y\n",
      "\n",
      "print f(2, 3)\n",
      "#     5\n",
      "\n",
      "#     def f(x):\n",
      "#         # x = 2\n",
      "# #        g = lambda y: x + y\n",
      "# #        return g\n",
      "\n",
      "#         def inner_func(y):\n",
      "#             return x + y\n",
      "#         g = inner_func\n",
      "#         return g\n",
      "\n",
      "#     f(2)\n",
      "#        def g(y):\n",
      "#            return 2 + y\n",
      "#        return g\n",
      "\n",
      "#     intermediate_fn = f(2)\n",
      "\n",
      "#     f(2)(3)\n",
      "#     5"
     ],
     "language": "python",
     "metadata": {},
     "outputs": [
      {
       "output_type": "stream",
       "stream": "stdout",
       "text": [
        "5\n"
       ]
      }
     ],
     "prompt_number": 22
    },
    {
     "cell_type": "code",
     "collapsed": false,
     "input": [],
     "language": "python",
     "metadata": {},
     "outputs": []
    }
   ],
   "metadata": {}
  }
 ]
}