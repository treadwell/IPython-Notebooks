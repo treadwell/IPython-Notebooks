{
 "metadata": {
  "name": "OOP in Python"
 },
 "nbformat": 3,
 "nbformat_minor": 0,
 "worksheets": [
  {
   "cells": [
    {
     "cell_type": "code",
     "collapsed": false,
     "input": [
      "class Square:\n",
      "    def __init__(self, s=1):\n",
      "        self.side = s\n",
      "    \n",
      "    def area(self):\n",
      "        return self.side * self.side\n",
      "    \n",
      "    def circ(self):\n",
      "        return self.side * 4\n",
      "\n",
      "a = Square(4) # calls init method of class and executes methods under it.\n",
      "print a.area()  # this is implicitly calling area since a is an instance of Square\n",
      "\n",
      "print Square.area(a)  # this is a better representation\n",
      "print Square.circ(a)\n",
      "\n",
      "print a"
     ],
     "language": "python",
     "metadata": {},
     "outputs": []
    }
   ],
   "metadata": {}
  }
 ]
}