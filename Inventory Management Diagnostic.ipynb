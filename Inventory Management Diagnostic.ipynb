{
 "metadata": {
  "name": "Inventory Management Diagnostic"
 },
 "nbformat": 3,
 "nbformat_minor": 0,
 "worksheets": [
  {
   "cells": [
    {
     "cell_type": "code",
     "collapsed": false,
     "input": [
      "import csv as csv\n",
      "import numpy as np\n",
      "import matplotlib.pyplot as plt\n",
      "import pandas\n",
      "# from numpy import recfromcsv  # could also use recfromcsv"
     ],
     "language": "python",
     "metadata": {},
     "outputs": [],
     "prompt_number": 1
    },
    {
     "cell_type": "heading",
     "level": 2,
     "metadata": {},
     "source": [
      "function: Read data, sort and add cumulative demand and inventory"
     ]
    },
    {
     "cell_type": "code",
     "collapsed": false,
     "input": [
      "def read_data(filename):\n",
      "    f = open(filename, 'r')\n",
      "    reader = csv.reader(f, delimiter = ',')\n",
      "    lines = list(reader)\n",
      "        #y = zip(*lines)[1:]  slice to drop\n",
      "        #print lines[0]\n",
      "        #print float(lines[1][1])\n",
      "    headers = lines.pop(0)\n",
      "        # print headers\n",
      "        # def f(line):\n",
      "            # return -float(line[1])\n",
      "    #lines.sort(key = f)  # figure out how to turn this into a lambda function\n",
      "    lines.sort(key = lambda line: -float(line[1]))\n",
      "        #lines.insert(0, headers)\n",
      "        #lines.sort(key = )\n",
      "    return lines\n",
      "\n",
      "filename = 'C:\\Users\\kbrooks\\Documents\\Areas\\TMG\\Functions\\Inventory Management\\Test data.csv'\n",
      "print read_data(filename)"
     ],
     "language": "python",
     "metadata": {},
     "outputs": [
      {
       "output_type": "stream",
       "stream": "stdout",
       "text": [
        "[['77390598', '25925', '462', '0.213847637', '6', '10500', '80', '0.155', '100', '7.41311095', '2849.997859'], ['73054615', '25057.5', '2683', '1.284884765', '6', '18000', '80', '0.155', '39085.0175', '7.748467764', '40425.85979'], ['77459342', '20058.33333', '2754', '1.647594516', '6', '15200', '80', '0.155', '30070.482', '7.610183723', '32021.82869'], ['73532061', '19667', '29334', '17.8984085', '6', '30000', '80', '0.155', '14055.11333', '7.570497933', '21767.35361'], ['73384038', '15003', '18598', '14.87542492', '6', '20000', '80', '0.155', '17029.505', '7.867644', '20517.97875'], ['73378097', '14011', '6393', '5.475412176', '6', '20000', '80', '0.155', '21037.9775', '11.5308975', '18196.10025'], ['007803549X', '12015.5', '5476', '5.468935958', '6', '12000', '80', '0.155', '23463.22333', '8.352276008', '20905.02133'], ['73402737', '10008', '416', '0.498800959', '6', '10000', '80', '0.155', '32827.09', '7.665941', '23544.24674'], ['007752585X', '7500', '7205', '11.528', '6', '7500', '80', '0.155', '100', '7.547964', '1519.151626'], ['77366530', '5855', '1434', '2.939026473', '6', '9600', '80', '0.155', '20183.36333', '8.368388207', '13525.31707']]\n"
       ]
      }
     ],
     "prompt_number": 23
    },
    {
     "cell_type": "code",
     "collapsed": false,
     "input": [
      "def cumulatives(sortedData):\n",
      "    Y = zip(*sortedData)  # puts all instances of the same variable together in a tuple\n",
      "    demand = [float(i) for i in Y[1]]  \n",
      "    inventory = [float(i) for i in Y[2]]\n",
      "    mosSupply = [float(i) for i in Y[3]]\n",
      "    leadtime = [float(i) for i in Y[4]]\n",
      "    lastOrder = [float(i) for i in Y[5]]\n",
      "    orderCost = [float(i) for i in Y[6]]\n",
      "    interest = [float(i) for i in Y[7]]\n",
      "    fmc = [float(i) for i in Y[8]]\n",
      "    vmc = [float(i) for i in Y[9]]\n",
      "    eoq = [float(i) for i in Y[10]]\n",
      "        #print \"Demand =\", Demand\n",
      "        #print \"Inventory =\", Inventory\n",
      "        # del Y[0]   deletes the first element (clearer)\n",
      "        # Y.pop(0) uses the list as a stack - computer efficient\n",
      "    def cumsum(X):\n",
      "        cumsum = []\n",
      "        y = 0\n",
      "        for i in X:\n",
      "            y += i\n",
      "            cumsum.append(y)\n",
      "        return cumsum\n",
      "    cumDemand = cumsum(demand)\n",
      "    cumInventory = cumsum(inventory)\n",
      "    def cumMosSupply(CumDemand, CumInventory):\n",
      "        cummos = []\n",
      "        y = 0\n",
      "        for i in range(len(CumDemand)):\n",
      "            y = CumInventory[i]/CumDemand[i]*12\n",
      "            cummos.append(y)\n",
      "        return cummos\n",
      "    cumMosSupply = cumMosSupply(cumDemand, cumInventory)\n",
      "        #print cumMosSupply\n",
      "    newData = []\n",
      "    newData.append(demand)\n",
      "    newData.append(cumDemand)\n",
      "    newData.append(inventory)\n",
      "    newData.append(cumInventory)\n",
      "    newData.append(mosSupply)\n",
      "    newData.append(cumMosSupply)\n",
      "    newData.append(leadtime)\n",
      "    newData.append(lastOrder)\n",
      "    newData.append(orderCost)\n",
      "    newData.append(fmc)\n",
      "    newData.append(vmc)\n",
      "    newData.append(eoq)\n",
      "        # print newData\n",
      "    return cumDemand, cumInventory, cumMosSupply, demand, inventory\n",
      "\n",
      "#filename = 'C:\\Users\\kbrooks\\Documents\\Areas\\TMG\\Functions\\Inventory Management\\Test data.csv'\n",
      "#cumulatives(read_data(filename))\n"
     ],
     "language": "python",
     "metadata": {},
     "outputs": [
      {
       "output_type": "stream",
       "stream": "stdout",
       "text": [
        "['ISBN', 'Demand', 'Inventory', 'MosSupply', 'LeadTime', 'LastOrder', 'OrderCost', 'interest', 'FMC', 'VMC', 'EOQ']\n",
        "[[25925.0, 25057.5, 20058.33333, 19667.0, 15003.0, 14011.0, 12015.5, 10008.0, 7500.0, 5855.0], [25925.0, 50982.5, 71040.83333, 90707.83333, 105710.83333, 119721.83333, 131737.33333, 141745.33333, 149245.33333, 155100.33333], [462.0, 2683.0, 2754.0, 29334.0, 18598.0, 6393.0, 5476.0, 416.0, 7205.0, 1434.0], [462.0, 3145.0, 5899.0, 35233.0, 53831.0, 60224.0, 65700.0, 66116.0, 73321.0, 74755.0], [0.213847637, 1.284884765, 1.647594516, 17.8984085, 14.87542492, 5.475412176, 5.468935958, 0.498800959, 11.528, 2.939026473], [0.21384763741562202, 0.7402540087284852, 0.9964410140175928, 4.661074843027563, 6.110745508773486, 6.036392693787025, 5.984636094197156, 5.59730596670078, 5.89534011126859, 5.7837399877882], [6.0, 6.0, 6.0, 6.0, 6.0, 6.0, 6.0, 6.0, 6.0, 6.0], [10500.0, 18000.0, 15200.0, 30000.0, 20000.0, 20000.0, 12000.0, 10000.0, 7500.0, 9600.0], [80.0, 80.0, 80.0, 80.0, 80.0, 80.0, 80.0, 80.0, 80.0, 80.0], [100.0, 39085.0175, 30070.482, 14055.11333, 17029.505, 21037.9775, 23463.22333, 32827.09, 100.0, 20183.36333], [7.41311095, 7.748467764, 7.610183723, 7.570497933, 7.867644, 11.5308975, 8.352276008, 7.665941, 7.547964, 8.368388207], [2849.997859, 40425.85979, 32021.82869, 21767.35361, 20517.97875, 18196.10025, 20905.02133, 23544.24674, 1519.151626, 13525.31707]]\n"
       ]
      },
      {
       "output_type": "pyout",
       "prompt_number": 8,
       "text": [
        "([25925.0,\n",
        "  50982.5,\n",
        "  71040.83333,\n",
        "  90707.83333,\n",
        "  105710.83333,\n",
        "  119721.83333,\n",
        "  131737.33333,\n",
        "  141745.33333,\n",
        "  149245.33333,\n",
        "  155100.33333],\n",
        " [462.0,\n",
        "  3145.0,\n",
        "  5899.0,\n",
        "  35233.0,\n",
        "  53831.0,\n",
        "  60224.0,\n",
        "  65700.0,\n",
        "  66116.0,\n",
        "  73321.0,\n",
        "  74755.0],\n",
        " [0.21384763741562202,\n",
        "  0.7402540087284852,\n",
        "  0.9964410140175928,\n",
        "  4.661074843027563,\n",
        "  6.110745508773486,\n",
        "  6.036392693787025,\n",
        "  5.984636094197156,\n",
        "  5.59730596670078,\n",
        "  5.89534011126859,\n",
        "  5.7837399877882],\n",
        " [25925.0,\n",
        "  25057.5,\n",
        "  20058.33333,\n",
        "  19667.0,\n",
        "  15003.0,\n",
        "  14011.0,\n",
        "  12015.5,\n",
        "  10008.0,\n",
        "  7500.0,\n",
        "  5855.0],\n",
        " [462.0,\n",
        "  2683.0,\n",
        "  2754.0,\n",
        "  29334.0,\n",
        "  18598.0,\n",
        "  6393.0,\n",
        "  5476.0,\n",
        "  416.0,\n",
        "  7205.0,\n",
        "  1434.0])"
       ]
      }
     ],
     "prompt_number": 8
    },
    {
     "cell_type": "code",
     "collapsed": false,
     "input": [
      "# not used\n",
      "\n",
      "def read_inventory_old(file_name):  # not used\n",
      "    dtypes = np.dtype({ 'names' : ('ISBN', 'Demand', 'Inventory', 'MosSupply', 'LeadTime', 'LastOrder',\n",
      "                   'OrderCost', 'interest', 'FMC', 'VMC', 'EOQ'),\n",
      "                        'formats' : [ 'S15', np.float, np.float, np.float, np.float, np.float, np.float, np.float,\n",
      "                                      np.float, np.float, np.float, np.float] })\n",
      "    data = np.loadtxt(file_name, delimiter=',', skiprows=1, dtype=dtypes)\n",
      "    return data\n",
      "\n",
      "# probably want to read *all* data, then create an analysis subset (or cross-validation set)"
     ],
     "language": "python",
     "metadata": {},
     "outputs": [],
     "prompt_number": 13
    },
    {
     "cell_type": "heading",
     "level": 2,
     "metadata": {},
     "source": [
      "function: create graphs"
     ]
    },
    {
     "cell_type": "heading",
     "level": 3,
     "metadata": {},
     "source": [
      "Cumulative graphs"
     ]
    },
    {
     "cell_type": "code",
     "collapsed": false,
     "input": [
      "def cumulative_graphs(cumDemand, cumInventory):\n",
      "    fig = plt.figure()\n",
      "    ax = plt.subplot(111)\n",
      "    ax.plot(cumDemand, label=\"Demand\")\n",
      "    ax.plot(cumInventory, label=\"Inventory\")\n",
      "    ax.legend(bbox_to_anchor=(0.3, 1))\n",
      "    plt.xlabel( 'Ranked Titles (high to low)' )\n",
      "    plt.ylabel( 'Cumulative Units' )\n",
      "    plt.title( \"Inventory Performance - Actual\")\n",
      "    plt.show()\n",
      "    \n"
     ],
     "language": "python",
     "metadata": {},
     "outputs": [],
     "prompt_number": 14
    },
    {
     "cell_type": "heading",
     "level": 3,
     "metadata": {},
     "source": [
      "Turns (months of supply) graphs"
     ]
    },
    {
     "cell_type": "code",
     "collapsed": false,
     "input": [
      "def mosSupply_graphs(cumMosSupply):\n",
      "    fig = plt.figure()\n",
      "    ax = plt.subplot(111)\n",
      "    ax.plot(cumMosSupply, label=\"Months Supply\")\n",
      "    ax.legend(bbox_to_anchor=(0.3, 1))\n",
      "    plt.xlabel( 'Ranked Titles (high to low)' )\n",
      "    plt.ylabel( 'Months Supply' )\n",
      "    plt.title( \"Cumulative Months of Supply - Actual\")\n",
      "    plt.show()\n"
     ],
     "language": "python",
     "metadata": {},
     "outputs": [],
     "prompt_number": 15
    },
    {
     "cell_type": "heading",
     "level": 3,
     "metadata": {},
     "source": [
      "Scatter plots of inventory versus demand, etc."
     ]
    },
    {
     "cell_type": "heading",
     "level": 3,
     "metadata": {},
     "source": [
      "Single title charts"
     ]
    },
    {
     "cell_type": "code",
     "collapsed": false,
     "input": [
      "# Show seasonality, decline and level forecasts\n",
      "# Show historical \"9 months of supply\" approach: inventory line with total cumulative cost as a 2nd line\n",
      "# Show EOQ sawtooth with total cumulative cost as a 2nd line\n",
      "# Show optimal cost approach with total cumulative cost as a 2nd line"
     ],
     "language": "python",
     "metadata": {},
     "outputs": [],
     "prompt_number": 16
    },
    {
     "cell_type": "heading",
     "level": 3,
     "metadata": {},
     "source": [
      "Dashboard graphs"
     ]
    },
    {
     "cell_type": "code",
     "collapsed": false,
     "input": [
      "def InventoryGraphs(cumDemand, cumInventory, cumMosSupply, demand, inventory):\n",
      "\n",
      "    fig = plt.figure()\n",
      "    #--- top left ---\n",
      "    ax1 = plt.subplot( 2, 2, 1 )\n",
      "    ax1.plot(cumDemand, label=\"Demand\")\n",
      "    ax1.plot(cumInventory, label=\"Inventory - Actual\")\n",
      "    ax1.legend(bbox_to_anchor=(0.3, 1))\n",
      "    plt.xlabel( 'Ranked Titles (high to low)' )\n",
      "    plt.ylabel( 'Cumulative Units' )\n",
      "    plt.title( \"Inventory Performance\")\n",
      "    \n",
      "    # add a textbox with the power law parameters for demand and inventory\n",
      "\n",
      "    \n",
      "    #--- top right ---\n",
      "    plt.subplot( 2, 2, 2 )\n",
      "    plt.plot(cumMosSupply, label=\"Actual\")\n",
      "    plt.legend(bbox_to_anchor=(0.5, .25))\n",
      "    plt.xlabel( 'Ranked Titles (high to low)' )\n",
      "    plt.ylabel( 'Months Supply' )\n",
      "    plt.title( \"Cumulative Months of Supply\")\n",
      "    \n",
      "    #------------------------- To Add ----------------------------\n",
      "    # show this as a cumulative line chart with both projected title movement\n",
      "    # and inventory contribution on it. Projected title movement should have\n",
      "    # some slight increase in sales due to better POD fill\n",
      "\n",
      "    #--- bottom left ---\n",
      "    plt.subplot( 2, 2, 3 )\n",
      "    plt.plot( demand, inventory, 'rs' )\n",
      "    plt.title( \"Demand vs Inventory\")\n",
      "    plt.xlabel( 'Annualized Demand' )\n",
      "    plt.ylabel( 'Unit Inventory Level' )\n",
      "    \n",
      "    #--- bottom right ---\n",
      "    plt.subplot( 2, 2, 4 )\n",
      "    plt.plot( demand, inventory, 'rs' )\n",
      "    plt.title( \"Demand vs Inventory\")\n",
      "    plt.xlabel( 'Annualized Demand' )\n",
      "    plt.ylabel( 'Unit Inventory Level' )\n",
      "\n",
      "    plt.show()\n"
     ],
     "language": "python",
     "metadata": {},
     "outputs": [],
     "prompt_number": "*"
    },
    {
     "cell_type": "heading",
     "level": 2,
     "metadata": {},
     "source": [
      "Import and analyze data"
     ]
    },
    {
     "cell_type": "code",
     "collapsed": false,
     "input": [
      "# get data and sort\n",
      "\n",
      "filename = 'C:\\Users\\kbrooks\\Documents\\Areas\\TMG\\Functions\\Inventory Management\\Test data.csv'\n",
      "sortedData = read_data(filename)\n",
      "\n",
      "# process sorted data \n",
      "cumDemand, cumInventory, cumMosSupply, demand, inventory = cumulatives(sortedData)\n",
      "\n",
      "# review graphs\n",
      "    #cumulative_graphs(cumDemand, cumInventory)\n",
      "    #mosSupply_graphs(cumMosSupply)\n",
      "InventoryGraphs(cumDemand, cumInventory, cumMosSupply, demand, inventory)"
     ],
     "language": "python",
     "metadata": {},
     "outputs": [],
     "prompt_number": "*"
    },
    {
     "cell_type": "code",
     "collapsed": false,
     "input": [],
     "language": "python",
     "metadata": {},
     "outputs": [],
     "prompt_number": "*"
    }
   ],
   "metadata": {}
  }
 ]
}