{
 "metadata": {
  "name": ""
 },
 "nbformat": 3,
 "nbformat_minor": 0,
 "worksheets": [
  {
   "cells": [
    {
     "cell_type": "code",
     "collapsed": false,
     "input": [
      "from ggplot import *"
     ],
     "language": "python",
     "metadata": {},
     "outputs": [],
     "prompt_number": 2
    },
    {
     "cell_type": "code",
     "collapsed": false,
     "input": [
      "#  Start with a forecast of demand\n",
      "\n",
      "# Project monthly demand from lifeDemand, trendPerMonth (multiplicative), yearsLife, and\n",
      "# a list of 12 seasonality coefficients (seasonCoeffs). Return normalized\n",
      "# demand that gets close to the original lifetime projection. \n",
      "\n",
      "def calc_demand(lifeDemand, trendPerMonth, yearsLife, seasonCoeffs):\n",
      "\n",
      "    # Calculate level demand\n",
      "    levelDemand = [float(lifeDemand/yearsLife/12)]* (yearsLife*12)\n",
      "    \n",
      "    # Calculate trend demand\n",
      "    trendDemand = [x * (1+trendPerMonth)**i for i, x in enumerate(levelDemand)]\n",
      "    \n",
      "    # Calculate seasonal demand\n",
      "    seasonalDemand = [x*seasonCoeffs[i % 12] for i, x in enumerate(trendDemand)]\n",
      "\n",
      "    # Normalize demand to add up to lifetime demand\n",
      "    d = lifeDemand/sum(seasonalDemand)\n",
      "    normalizedDemand = [int(round(d*x)) for x in seasonalDemand]\n",
      "    \n",
      "    return normalizedDemand\n",
      "\n",
      "lifeDemand = 24000\n",
      "trendPerMonth = -.01\n",
      "yearsLife = 2\n",
      "seasonCoeffs = [1.0,1.0,1.0,1.0,1.0,1.0,1.0,1.0,1.0,1.0,1.0,1.0]\n",
      "\n",
      "forecast = calc_demand(lifeDemand, trendPerMonth, yearsLife, seasonCoeffs)\n",
      "\n",
      "print ggplot(forecast)\n",
      "\n",
      "ggplot(meat, aes(date,beef)) + \n",
      "  geom_line(colour='black') + \n",
      "  scale_x_date(breaks=date_breaks('7 years'),labels = date_format(\"%b %Y\")) + \n",
      "  scale_y_continuous(labels=comma)\n",
      "    \n",
      "p = ggplot(forecast, aes(x = 1:3, y = values, colour = group2)) + geom_line() + \n",
      "        geom_point() + facet_wrap(~ group1, ncol = 2)\n"
     ],
     "language": "python",
     "metadata": {},
     "outputs": [
      {
       "ename": "NameError",
       "evalue": "name 'qplot' is not defined",
       "output_type": "pyerr",
       "traceback": [
        "\u001b[0;31m---------------------------------------------------------------------------\u001b[0m\n\u001b[0;31mNameError\u001b[0m                                 Traceback (most recent call last)",
        "\u001b[0;32m<ipython-input-6-89bfa58668ae>\u001b[0m in \u001b[0;36m<module>\u001b[0;34m()\u001b[0m\n\u001b[1;32m     31\u001b[0m \u001b[0;34m\u001b[0m\u001b[0m\n\u001b[1;32m     32\u001b[0m \u001b[0;34m\u001b[0m\u001b[0m\n\u001b[0;32m---> 33\u001b[0;31m \u001b[0;32mprint\u001b[0m \u001b[0mqplot\u001b[0m\u001b[0;34m(\u001b[0m\u001b[0mforecast\u001b[0m\u001b[0;34m)\u001b[0m\u001b[0;34m\u001b[0m\u001b[0m\n\u001b[0m",
        "\u001b[0;31mNameError\u001b[0m: name 'qplot' is not defined"
       ]
      }
     ],
     "prompt_number": 6
    },
    {
     "cell_type": "code",
     "collapsed": false,
     "input": [
      "#  ...and a forecast of returns"
     ],
     "language": "python",
     "metadata": {},
     "outputs": []
    },
    {
     "cell_type": "code",
     "collapsed": false,
     "input": [
      "# Implements greedy heuristic for calculating minimum cost print strategy\n",
      "# defines cost vector as a dictionary\n",
      "\n",
      "cost = {'perOrder': 80.0, 'WACC': 0.12, 'POD_vmc': 5.0, 'fmc': 1000, 'vmc': 2.0}\n",
      "\n",
      "demand = 24*[1000]\n",
      "\n"
     ],
     "language": "python",
     "metadata": {},
     "outputs": [],
     "prompt_number": 24
    },
    {
     "cell_type": "code",
     "collapsed": false,
     "input": [
      "def inv_stats(orders, demand):\n",
      "    starting_inventory = []\n",
      "    ending_inventory = []\n",
      "    average_inventory = []\n",
      "\n",
      "    for i, order in enumerate(orders):\n",
      "        # calculate starting inventory\n",
      "        if i == 0:\n",
      "            starting_inventory.append(0)  # eventually replace this with an optional input\n",
      "        else:\n",
      "            starting_inventory.append(ending_inventory[i-1])\n",
      "        \n",
      "        # calculate ending inventory from inventory balance equation\n",
      "        ending_inventory.append(max(0,starting_inventory[i] - demand[i] + orders[i]))\n",
      "\n",
      "        # calculate average inventory in order to calculate period carrying cost\n",
      "        average_inventory.append((starting_inventory[i]+ending_inventory[i])/2)\n",
      "\n",
      "    return starting_inventory, ending_inventory, average_inventory"
     ],
     "language": "python",
     "metadata": {},
     "outputs": [],
     "prompt_number": 25
    },
    {
     "cell_type": "code",
     "collapsed": false,
     "input": [
      "def calc_optimal_order_periods(demand, cost):\n",
      "    total_cost_per_unit = []\n",
      "    for i, d in enumerate(demand):\n",
      "    \n",
      "        cum_demand = sum(demand[:i+1])\n",
      "        orders = [cum_demand] + (len(demand)-1) * [0]\n",
      "    \n",
      "        starting_inventory, ending_inventory, average_inventory = inv_stats(orders, demand)\n",
      "    \n",
      "        # calculate costs\n",
      "\n",
      "        fixed_cost = [cost[\"fmc\"] + cost[\"perOrder\"] if round(order) else 0 for order in orders]\n",
      "        variable_cost = [cost[\"vmc\"] * order for order in orders]\n",
      "\n",
      "        try:\n",
      "            umc = (sum(fixed_cost)+sum(variable_cost)) / (sum(orders))\n",
      "        except ZeroDivisionError:\n",
      "            umc = 0\n",
      "    \n",
      "        carrying_cost = [float(cost[\"WACC\"]) / 12 * month_avg * umc for month_avg in average_inventory] \n",
      "\n",
      "        total_cost = sum(fixed_cost + variable_cost + carrying_cost)\n",
      "\n",
      "        total_cost_per_unit.append(total_cost / cum_demand)\n",
      "\n",
      "    for i, x in enumerate(total_cost_per_unit):\n",
      "        if x == min(total_cost_per_unit):\n",
      "            return i, x\n",
      "\n",
      "print calc_optimal_order_periods(demand, cost)"
     ],
     "language": "python",
     "metadata": {},
     "outputs": [
      {
       "output_type": "stream",
       "stream": "stdout",
       "text": [
        "(9, 2.20286)\n"
       ]
      }
     ],
     "prompt_number": 49
    },
    {
     "cell_type": "code",
     "collapsed": false,
     "input": [],
     "language": "python",
     "metadata": {},
     "outputs": []
    }
   ],
   "metadata": {}
  }
 ]
}