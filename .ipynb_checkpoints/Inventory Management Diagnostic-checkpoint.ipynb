{
 "metadata": {
  "name": ""
 },
 "nbformat": 3,
 "nbformat_minor": 0,
 "worksheets": [
  {
   "cells": [
    {
     "cell_type": "code",
     "collapsed": false,
     "input": [
      "import csv as csv\n",
      "import numpy as np\n",
      "import matplotlib.pyplot as plt\n",
      "import pandas\n",
      "# from numpy import recfromcsv  # could also use recfromcsv"
     ],
     "language": "python",
     "metadata": {},
     "outputs": [],
     "prompt_number": 1
    },
    {
     "cell_type": "heading",
     "level": 2,
     "metadata": {},
     "source": [
      "function: Read data, sort and add cumulative demand and inventory"
     ]
    },
    {
     "cell_type": "code",
     "collapsed": false,
     "input": [
      "def read_data(filename):\n",
      "    f = open(filename, 'r')\n",
      "    reader = csv.reader(f, delimiter = ',')\n",
      "    lines = list(reader)\n",
      "        #y = zip(*lines)[1:]  slice to drop\n",
      "        #print lines[0]\n",
      "        #print float(lines[1][1])\n",
      "    headers = lines.pop(0)\n",
      "        # print headers\n",
      "        # def f(line):\n",
      "            # return -float(line[1])\n",
      "    #lines.sort(key = f)  # figure out how to turn this into a lambda function\n",
      "    lines.sort(key = lambda line: -float(line[1]))\n",
      "        #lines.insert(0, headers)\n",
      "        #lines.sort(key = )\n",
      "    return lines\n",
      "\n",
      "filename = '~\\\\Documents\\\\TMG\\\\Functions\\\\Inventory Management\\\\Test data.csv'\n",
      "print read_data(filename)"
     ],
     "language": "python",
     "metadata": {},
     "outputs": [
      {
       "ename": "IOError",
       "evalue": "[Errno 2] No such file or directory: '~\\\\Documents\\\\TMG\\\\Functions\\\\Inventory Management\\\\Test data.csv'",
       "output_type": "pyerr",
       "traceback": [
        "\u001b[0;31m---------------------------------------------------------------------------\u001b[0m\n\u001b[0;31mIOError\u001b[0m                                   Traceback (most recent call last)",
        "\u001b[0;32m<ipython-input-1-f8d52f0fb91c>\u001b[0m in \u001b[0;36m<module>\u001b[0;34m()\u001b[0m\n\u001b[1;32m     17\u001b[0m \u001b[0;34m\u001b[0m\u001b[0m\n\u001b[1;32m     18\u001b[0m \u001b[0mfilename\u001b[0m \u001b[0;34m=\u001b[0m \u001b[0;34m'~\\Documents\\TMG\\Functions\\Inventory Management\\Test data.csv'\u001b[0m\u001b[0;34m\u001b[0m\u001b[0m\n\u001b[0;32m---> 19\u001b[0;31m \u001b[0;32mprint\u001b[0m \u001b[0mread_data\u001b[0m\u001b[0;34m(\u001b[0m\u001b[0mfilename\u001b[0m\u001b[0;34m)\u001b[0m\u001b[0;34m\u001b[0m\u001b[0m\n\u001b[0m",
        "\u001b[0;32m<ipython-input-1-f8d52f0fb91c>\u001b[0m in \u001b[0;36mread_data\u001b[0;34m(filename)\u001b[0m\n\u001b[1;32m      1\u001b[0m \u001b[0;32mdef\u001b[0m \u001b[0mread_data\u001b[0m\u001b[0;34m(\u001b[0m\u001b[0mfilename\u001b[0m\u001b[0;34m)\u001b[0m\u001b[0;34m:\u001b[0m\u001b[0;34m\u001b[0m\u001b[0m\n\u001b[0;32m----> 2\u001b[0;31m     \u001b[0mf\u001b[0m \u001b[0;34m=\u001b[0m \u001b[0mopen\u001b[0m\u001b[0;34m(\u001b[0m\u001b[0mfilename\u001b[0m\u001b[0;34m,\u001b[0m \u001b[0;34m'r'\u001b[0m\u001b[0;34m)\u001b[0m\u001b[0;34m\u001b[0m\u001b[0m\n\u001b[0m\u001b[1;32m      3\u001b[0m     \u001b[0mreader\u001b[0m \u001b[0;34m=\u001b[0m \u001b[0mcsv\u001b[0m\u001b[0;34m.\u001b[0m\u001b[0mreader\u001b[0m\u001b[0;34m(\u001b[0m\u001b[0mf\u001b[0m\u001b[0;34m,\u001b[0m \u001b[0mdelimiter\u001b[0m \u001b[0;34m=\u001b[0m \u001b[0;34m','\u001b[0m\u001b[0;34m)\u001b[0m\u001b[0;34m\u001b[0m\u001b[0m\n\u001b[1;32m      4\u001b[0m     \u001b[0mlines\u001b[0m \u001b[0;34m=\u001b[0m \u001b[0mlist\u001b[0m\u001b[0;34m(\u001b[0m\u001b[0mreader\u001b[0m\u001b[0;34m)\u001b[0m\u001b[0;34m\u001b[0m\u001b[0m\n\u001b[1;32m      5\u001b[0m         \u001b[0;31m#y = zip(*lines)[1:]  slice to drop\u001b[0m\u001b[0;34m\u001b[0m\u001b[0;34m\u001b[0m\u001b[0m\n",
        "\u001b[0;31mIOError\u001b[0m: [Errno 2] No such file or directory: '~\\\\Documents\\\\TMG\\\\Functions\\\\Inventory Management\\\\Test data.csv'"
       ]
      }
     ],
     "prompt_number": 1
    },
    {
     "cell_type": "code",
     "collapsed": false,
     "input": [
      "def cumulatives(sortedData):\n",
      "    Y = zip(*sortedData)  # puts all instances of the same variable together in a tuple\n",
      "    demand = [float(i) for i in Y[1]]  \n",
      "    inventory = [float(i) for i in Y[2]]\n",
      "    mosSupply = [float(i) for i in Y[3]]\n",
      "    leadtime = [float(i) for i in Y[4]]\n",
      "    lastOrder = [float(i) for i in Y[5]]\n",
      "    orderCost = [float(i) for i in Y[6]]\n",
      "    interest = [float(i) for i in Y[7]]\n",
      "    fmc = [float(i) for i in Y[8]]\n",
      "    vmc = [float(i) for i in Y[9]]\n",
      "    eoq = [float(i) for i in Y[10]]\n",
      "        #print \"Demand =\", Demand\n",
      "        #print \"Inventory =\", Inventory\n",
      "        # del Y[0]   deletes the first element (clearer)\n",
      "        # Y.pop(0) uses the list as a stack - computer efficient\n",
      "    def cumsum(X):\n",
      "        cumsum = []\n",
      "        y = 0\n",
      "        for i in X:\n",
      "            y += i\n",
      "            cumsum.append(y)\n",
      "        return cumsum\n",
      "    cumDemand = cumsum(demand)\n",
      "    cumInventory = cumsum(inventory)\n",
      "    def cumMosSupply(CumDemand, CumInventory):\n",
      "        cummos = []\n",
      "        y = 0\n",
      "        for i in range(len(CumDemand)):\n",
      "            y = CumInventory[i]/CumDemand[i]*12\n",
      "            cummos.append(y)\n",
      "        return cummos\n",
      "    cumMosSupply = cumMosSupply(cumDemand, cumInventory)\n",
      "        #print cumMosSupply\n",
      "    newData = []\n",
      "    newData.append(demand)\n",
      "    newData.append(cumDemand)\n",
      "    newData.append(inventory)\n",
      "    newData.append(cumInventory)\n",
      "    newData.append(mosSupply)\n",
      "    newData.append(cumMosSupply)\n",
      "    newData.append(leadtime)\n",
      "    newData.append(lastOrder)\n",
      "    newData.append(orderCost)\n",
      "    newData.append(fmc)\n",
      "    newData.append(vmc)\n",
      "    newData.append(eoq)\n",
      "        # print newData\n",
      "    return cumDemand, cumInventory, cumMosSupply, demand, inventory\n",
      "\n",
      "#filename = 'C:\\Users\\kbrooks\\Documents\\Areas\\TMG\\Functions\\Inventory Management\\Test data.csv'\n",
      "#cumulatives(read_data(filename))\n"
     ],
     "language": "python",
     "metadata": {},
     "outputs": []
    },
    {
     "cell_type": "code",
     "collapsed": false,
     "input": [
      "# not used\n",
      "\n",
      "def read_inventory_old(file_name):  # not used\n",
      "    dtypes = np.dtype({ 'names' : ('ISBN', 'Demand', 'Inventory', 'MosSupply', 'LeadTime', 'LastOrder',\n",
      "                   'OrderCost', 'interest', 'FMC', 'VMC', 'EOQ'),\n",
      "                        'formats' : [ 'S15', np.float, np.float, np.float, np.float, np.float, np.float, np.float,\n",
      "                                      np.float, np.float, np.float, np.float] })\n",
      "    data = np.loadtxt(file_name, delimiter=',', skiprows=1, dtype=dtypes)\n",
      "    return data\n",
      "\n",
      "# probably want to read *all* data, then create an analysis subset (or cross-validation set)"
     ],
     "language": "python",
     "metadata": {},
     "outputs": []
    },
    {
     "cell_type": "heading",
     "level": 2,
     "metadata": {},
     "source": [
      "function: create graphs"
     ]
    },
    {
     "cell_type": "heading",
     "level": 3,
     "metadata": {},
     "source": [
      "Cumulative graphs"
     ]
    },
    {
     "cell_type": "code",
     "collapsed": false,
     "input": [
      "def cumulative_graphs(cumDemand, cumInventory):\n",
      "    fig = plt.figure()\n",
      "    ax = plt.subplot(111)\n",
      "    ax.plot(cumDemand, label=\"Demand\")\n",
      "    ax.plot(cumInventory, label=\"Inventory\")\n",
      "    ax.legend(bbox_to_anchor=(0.3, 1))\n",
      "    plt.xlabel( 'Ranked Titles (high to low)' )\n",
      "    plt.ylabel( 'Cumulative Units' )\n",
      "    plt.title( \"Inventory Performance - Actual\")\n",
      "    plt.show()\n",
      "    \n"
     ],
     "language": "python",
     "metadata": {},
     "outputs": []
    },
    {
     "cell_type": "heading",
     "level": 3,
     "metadata": {},
     "source": [
      "Turns (months of supply) graphs"
     ]
    },
    {
     "cell_type": "code",
     "collapsed": false,
     "input": [
      "def mosSupply_graphs(cumMosSupply):\n",
      "    fig = plt.figure()\n",
      "    ax = plt.subplot(111)\n",
      "    ax.plot(cumMosSupply, label=\"Months Supply\")\n",
      "    ax.legend(bbox_to_anchor=(0.3, 1))\n",
      "    plt.xlabel( 'Ranked Titles (high to low)' )\n",
      "    plt.ylabel( 'Months Supply' )\n",
      "    plt.title( \"Cumulative Months of Supply - Actual\")\n",
      "    plt.show()\n"
     ],
     "language": "python",
     "metadata": {},
     "outputs": []
    },
    {
     "cell_type": "heading",
     "level": 3,
     "metadata": {},
     "source": [
      "Scatter plots of inventory versus demand, etc."
     ]
    },
    {
     "cell_type": "heading",
     "level": 3,
     "metadata": {},
     "source": [
      "Single title charts"
     ]
    },
    {
     "cell_type": "code",
     "collapsed": false,
     "input": [
      "# Show seasonality, decline and level forecasts\n",
      "# Show historical \"9 months of supply\" approach: inventory line with total cumulative cost as a 2nd line\n",
      "# Show EOQ sawtooth with total cumulative cost as a 2nd line\n",
      "# Show optimal cost approach with total cumulative cost as a 2nd line"
     ],
     "language": "python",
     "metadata": {},
     "outputs": []
    },
    {
     "cell_type": "heading",
     "level": 3,
     "metadata": {},
     "source": [
      "Dashboard graphs"
     ]
    },
    {
     "cell_type": "code",
     "collapsed": false,
     "input": [
      "def InventoryGraphs(cumDemand, cumInventory, cumMosSupply, demand, inventory):\n",
      "\n",
      "    fig = plt.figure()\n",
      "    #--- top left ---\n",
      "    ax1 = plt.subplot( 2, 2, 1 )\n",
      "    ax1.plot(cumDemand, label=\"Demand\")\n",
      "    ax1.plot(cumInventory, label=\"Inventory - Actual\")\n",
      "    ax1.legend(bbox_to_anchor=(0.3, 1))\n",
      "    plt.xlabel( 'Ranked Titles (high to low)' )\n",
      "    plt.ylabel( 'Cumulative Units' )\n",
      "    plt.title( \"Inventory Performance\")\n",
      "    \n",
      "    # add a textbox with the power law parameters for demand and inventory\n",
      "\n",
      "    \n",
      "    #--- top right ---\n",
      "    plt.subplot( 2, 2, 2 )\n",
      "    plt.plot(cumMosSupply, label=\"Actual\")\n",
      "    plt.legend(bbox_to_anchor=(0.5, .25))\n",
      "    plt.xlabel( 'Ranked Titles (high to low)' )\n",
      "    plt.ylabel( 'Months Supply' )\n",
      "    plt.title( \"Cumulative Months of Supply\")\n",
      "    \n",
      "    #------------------------- To Add ----------------------------\n",
      "    # show this as a cumulative line chart with both projected title movement\n",
      "    # and inventory contribution on it. Projected title movement should have\n",
      "    # some slight increase in sales due to better POD fill\n",
      "\n",
      "    #--- bottom left ---\n",
      "    plt.subplot( 2, 2, 3 )\n",
      "    plt.plot( demand, inventory, 'rs' )\n",
      "    plt.title( \"Demand vs Inventory\")\n",
      "    plt.xlabel( 'Annualized Demand' )\n",
      "    plt.ylabel( 'Unit Inventory Level' )\n",
      "    \n",
      "    #--- bottom right ---\n",
      "    plt.subplot( 2, 2, 4 )\n",
      "    plt.plot( demand, inventory, 'rs' )\n",
      "    plt.title( \"Demand vs Inventory\")\n",
      "    plt.xlabel( 'Annualized Demand' )\n",
      "    plt.ylabel( 'Unit Inventory Level' )\n",
      "\n",
      "    plt.show()\n"
     ],
     "language": "python",
     "metadata": {},
     "outputs": []
    },
    {
     "cell_type": "heading",
     "level": 2,
     "metadata": {},
     "source": [
      "Import and analyze data"
     ]
    },
    {
     "cell_type": "code",
     "collapsed": false,
     "input": [
      "# get data and sort\n",
      "\n",
      "filename = 'C:\\Users\\kbrooks\\Documents\\Areas\\TMG\\Functions\\Inventory Management\\Test data.csv'\n",
      "sortedData = read_data(filename)\n",
      "\n",
      "# process sorted data \n",
      "cumDemand, cumInventory, cumMosSupply, demand, inventory = cumulatives(sortedData)\n",
      "\n",
      "# review graphs\n",
      "    #cumulative_graphs(cumDemand, cumInventory)\n",
      "    #mosSupply_graphs(cumMosSupply)\n",
      "InventoryGraphs(cumDemand, cumInventory, cumMosSupply, demand, inventory)"
     ],
     "language": "python",
     "metadata": {},
     "outputs": []
    },
    {
     "cell_type": "code",
     "collapsed": false,
     "input": [],
     "language": "python",
     "metadata": {},
     "outputs": []
    }
   ],
   "metadata": {}
  }
 ]
}