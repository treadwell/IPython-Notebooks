{
 "metadata": {
  "name": ""
 },
 "nbformat": 3,
 "nbformat_minor": 0,
 "worksheets": [
  {
   "cells": [
    {
     "cell_type": "code",
     "collapsed": false,
     "input": [
      "import matplotlib.pyplot as plt\n",
      "import numpy as np\n",
      "x = np.arange(0,10, 0.2)\n",
      "y = np.sin(x)\n",
      "fig = plt.figure()\n",
      "ax = fig.add_subplot(111)\n",
      "ax.plot(x,y)\n",
      "plt.show()"
     ],
     "language": "python",
     "metadata": {},
     "outputs": [],
     "prompt_number": 1
    },
    {
     "cell_type": "code",
     "collapsed": false,
     "input": [
      "from pylab import *\n",
      "y = arange(0,10, 0.2)\n",
      "y = sin(x)\n",
      "plot (x,y)  # not as clear as to what's going on behind the scenes\n",
      "show()"
     ],
     "language": "python",
     "metadata": {},
     "outputs": [],
     "prompt_number": 3
    },
    {
     "cell_type": "code",
     "collapsed": false,
     "input": [
      "# this was supposted to be interative...\n",
      "\n",
      "x = randn(100)\n",
      "hist(x,100)\n",
      "plt.ion()\n",
      "plt.show()  # if already have a plot\n",
      "# plt.draw()  # explicityl update"
     ],
     "language": "python",
     "metadata": {},
     "outputs": [],
     "prompt_number": 4
    },
    {
     "cell_type": "code",
     "collapsed": false,
     "input": [
      "# Histogram\n",
      "\n",
      "import matplotlib.pyplot as plt \n",
      "import numpy as np\n",
      "plt.hist(np.random.randn(1000))\n",
      "ax = plt.gca()  # get current axis\n",
      "ax.set_xlabel('Size')\n",
      "fig = plt.gcf()   # get current figure\n",
      "#fig.savefig('/tmp/hist.png')\n",
      "fig.show()"
     ],
     "language": "python",
     "metadata": {},
     "outputs": [],
     "prompt_number": 7
    },
    {
     "cell_type": "code",
     "collapsed": false,
     "input": [
      "import matplotlib.pyplot as plt \n",
      "import numpy as np\n",
      "fig = plt.figure()\n",
      "x = np.random.randn(1000)\n",
      "x2 = np.sort(x)\n",
      "cdf = np.cumsum([1 for item in x2])\n",
      "ncdf = cdf * 1./cdf[-1]\n",
      "plt.plot(x2, ncdf)\n",
      "plt.boxplot(x, notch=0, sym='r+', vert=0)\n",
      "ax = plt.gca()\n",
      "ax.set_ylim(0, 1.2)\n",
      "# fig.savefig('/tmp/cdf.png')\n",
      "fig.show()"
     ],
     "language": "python",
     "metadata": {},
     "outputs": [],
     "prompt_number": 9
    },
    {
     "cell_type": "code",
     "collapsed": false,
     "input": [],
     "language": "python",
     "metadata": {},
     "outputs": []
    }
   ],
   "metadata": {}
  }
 ]
}