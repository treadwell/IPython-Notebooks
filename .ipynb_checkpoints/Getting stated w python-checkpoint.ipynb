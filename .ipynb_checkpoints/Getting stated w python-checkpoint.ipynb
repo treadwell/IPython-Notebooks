{
 "metadata": {
  "name": ""
 },
 "nbformat": 3,
 "nbformat_minor": 0,
 "worksheets": [
  {
   "cells": [
    {
     "cell_type": "raw",
     "metadata": {},
     "source": [
      "# Notes from Getting Started with Python, Matplotlib and Pandas\n",
      "# Matt Harrison @__mharrison__ October 28th, 2013 O'Reilly Strata\n",
      "#\n",
      "#  Wrote Business Intelligence in Python \n",
      "\n",
      "Three keys:  dir, help, and :/indent\n",
      "\n",
      "In python people keep a REPL handy  (whatever that is...)"
     ]
    },
    {
     "cell_type": "code",
     "collapsed": false,
     "input": [
      "print (\"hello world\")  # REPL Read, Evaluate, Print, Loop\n"
     ],
     "language": "python",
     "metadata": {},
     "outputs": [
      {
       "output_type": "stream",
       "stream": "stdout",
       "text": [
        "hello world\n"
       ]
      }
     ],
     "prompt_number": 3
    },
    {
     "cell_type": "raw",
     "metadata": {},
     "source": [
      "In Python 3 \"print\" isn't a statement, but a function:\n",
      "\n",
      "print(\"hello world\")\n",
      "\n",
      "Objects\n",
      "- have an identity\n",
      "- has a value that can be mutable or immutable\n",
      "\n",
      "PEP8 - best practices for naming and constructing\n",
      "\n",
      "PEP8.py - runs it on your code to make sure it all complies with conventions\n",
      "\n",
      "Math\n",
      "\n",
      "Careful with integer division:  3/4 = 0\n",
      "make one of them a float 3/4.  = 0.75\n",
      "In Python 3 // is integer division operator\n",
      "\n"
     ]
    },
    {
     "cell_type": "code",
     "collapsed": false,
     "input": [
      "10**100"
     ],
     "language": "python",
     "metadata": {},
     "outputs": [
      {
       "metadata": {},
       "output_type": "pyout",
       "prompt_number": 4,
       "text": [
        "10000000000000000000000000000000000000000000000000000000000000000000000000000000000000000000000000000L"
       ]
      }
     ],
     "prompt_number": 4
    },
    {
     "cell_type": "code",
     "collapsed": false,
     "input": [
      "import sys\n",
      "sys.maxint  # maximum length of an integer before it becomes a \"long\"\n",
      "sys.maxint + 1"
     ],
     "language": "python",
     "metadata": {},
     "outputs": [
      {
       "metadata": {},
       "output_type": "pyout",
       "prompt_number": 7,
       "text": [
        "9223372036854775808L"
       ]
      }
     ],
     "prompt_number": 7
    },
    {
     "cell_type": "code",
     "collapsed": false,
     "input": [
      "# strings\n",
      "\n",
      "# PEP style\n",
      "\"{0} {1}\".format('hello', 'world')"
     ],
     "language": "python",
     "metadata": {},
     "outputs": [
      {
       "metadata": {},
       "output_type": "pyout",
       "prompt_number": 9,
       "text": [
        "'hello world'"
       ]
      }
     ],
     "prompt_number": 9
    },
    {
     "cell_type": "code",
     "collapsed": false,
     "input": [
      "dir   # lists attributes and methods:\n",
      "\n",
      "dir(\"a string\")"
     ],
     "language": "python",
     "metadata": {},
     "outputs": [
      {
       "metadata": {},
       "output_type": "pyout",
       "prompt_number": 10,
       "text": [
        "['__add__',\n",
        " '__class__',\n",
        " '__contains__',\n",
        " '__delattr__',\n",
        " '__doc__',\n",
        " '__eq__',\n",
        " '__format__',\n",
        " '__ge__',\n",
        " '__getattribute__',\n",
        " '__getitem__',\n",
        " '__getnewargs__',\n",
        " '__getslice__',\n",
        " '__gt__',\n",
        " '__hash__',\n",
        " '__init__',\n",
        " '__le__',\n",
        " '__len__',\n",
        " '__lt__',\n",
        " '__mod__',\n",
        " '__mul__',\n",
        " '__ne__',\n",
        " '__new__',\n",
        " '__reduce__',\n",
        " '__reduce_ex__',\n",
        " '__repr__',\n",
        " '__rmod__',\n",
        " '__rmul__',\n",
        " '__setattr__',\n",
        " '__sizeof__',\n",
        " '__str__',\n",
        " '__subclasshook__',\n",
        " '_formatter_field_name_split',\n",
        " '_formatter_parser',\n",
        " 'capitalize',\n",
        " 'center',\n",
        " 'count',\n",
        " 'decode',\n",
        " 'encode',\n",
        " 'endswith',\n",
        " 'expandtabs',\n",
        " 'find',\n",
        " 'format',\n",
        " 'index',\n",
        " 'isalnum',\n",
        " 'isalpha',\n",
        " 'isdigit',\n",
        " 'islower',\n",
        " 'isspace',\n",
        " 'istitle',\n",
        " 'isupper',\n",
        " 'join',\n",
        " 'ljust',\n",
        " 'lower',\n",
        " 'lstrip',\n",
        " 'partition',\n",
        " 'replace',\n",
        " 'rfind',\n",
        " 'rindex',\n",
        " 'rjust',\n",
        " 'rpartition',\n",
        " 'rsplit',\n",
        " 'rstrip',\n",
        " 'split',\n",
        " 'splitlines',\n",
        " 'startswith',\n",
        " 'strip',\n",
        " 'swapcase',\n",
        " 'title',\n",
        " 'translate',\n",
        " 'upper',\n",
        " 'zfill']"
       ]
      }
     ],
     "prompt_number": 10
    },
    {
     "cell_type": "raw",
     "metadata": {},
     "source": [
      "dunder (double under) or special/magic method determine what will happen when + __add__ is called"
     ]
    },
    {
     "cell_type": "code",
     "collapsed": false,
     "input": [
      "help(\"a string\".startswith)\n",
      "\n",
      "print \"a string\".startswith(\"a\")\n",
      "print \"a string\".startswith(\"b\")\n"
     ],
     "language": "python",
     "metadata": {},
     "outputs": [
      {
       "output_type": "stream",
       "stream": "stdout",
       "text": [
        "Help on built-in function startswith:\n",
        "\n",
        "startswith(...)\n",
        "    S.startswith(prefix[, start[, end]]) -> bool\n",
        "    \n",
        "    Return True if S starts with the specified prefix, False otherwise.\n",
        "    With optional start, test S beginning at that position.\n",
        "    With optional end, stop comparing S at that position.\n",
        "    prefix can also be a tuple of strings to try.\n",
        "\n",
        "True\n",
        "False\n"
       ]
      }
     ],
     "prompt_number": 13
    },
    {
     "cell_type": "code",
     "collapsed": false,
     "input": [
      "import this"
     ],
     "language": "python",
     "metadata": {},
     "outputs": [
      {
       "output_type": "stream",
       "stream": "stdout",
       "text": [
        "The Zen of Python, by Tim Peters\n",
        "\n",
        "Beautiful is better than ugly.\n",
        "Explicit is better than implicit.\n",
        "Simple is better than complex.\n",
        "Complex is better than complicated.\n",
        "Flat is better than nested.\n",
        "Sparse is better than dense.\n",
        "Readability counts.\n",
        "Special cases aren't special enough to break the rules.\n",
        "Although practicality beats purity.\n",
        "Errors should never pass silently.\n",
        "Unless explicitly silenced.\n",
        "In the face of ambiguity, refuse the temptation to guess.\n",
        "There should be one-- and preferably only one --obvious way to do it.\n",
        "Although that way may not be obvious at first unless you're Dutch.\n",
        "Now is better than never.\n",
        "Although never is often better than *right* now.\n",
        "If the implementation is hard to explain, it's a bad idea.\n",
        "If the implementation is easy to explain, it may be a good idea.\n",
        "Namespaces are one honking great idea -- let's do more of those!\n"
       ]
      }
     ],
     "prompt_number": 15
    },
    {
     "cell_type": "code",
     "collapsed": false,
     "input": [
      "for key, value in my_dict.items()\n",
      "\n",
      "for value in my_dict.values()\n",
      "\n",
      "for key in my_dict.keys()   "
     ],
     "language": "python",
     "metadata": {},
     "outputs": []
    },
    {
     "cell_type": "code",
     "collapsed": false,
     "input": [
      "class Animal(object):\n",
      "    def __init__(self, name):\n",
      "        self.name = name\n",
      "    def talk(self):\n",
      "        print \"Generic Animal Sound\"\n",
      "\n",
      "animal = Animal(\"thing\")\n",
      "\n",
      "print animal.name\n",
      "print animal.talk()\n",
      "\n",
      "class Cat(Animal):\n",
      "    def talk(self):\n",
      "        print '%s says, \"Meow!\"' % (self.name)\n",
      "\n",
      "cat = Cat(\"Groucho\")\n",
      "cat.talk() # invoke method cat.talk()\n",
      "\n",
      "print cat.name\n",
      "print cat.talk()"
     ],
     "language": "python",
     "metadata": {},
     "outputs": [
      {
       "output_type": "stream",
       "stream": "stdout",
       "text": [
        "thing\n",
        "Generic Animal Sound\n",
        "None\n",
        "Groucho says, \"Meow!\"\n",
        "Groucho\n",
        "Groucho says, \"Meow!\"\n",
        "None\n"
       ]
      }
     ],
     "prompt_number": 20
    },
    {
     "cell_type": "code",
     "collapsed": false,
     "input": [
      "import types\n",
      "import unittest\n",
      "\n",
      "dlass"
     ],
     "language": "python",
     "metadata": {},
     "outputs": []
    }
   ],
   "metadata": {}
  }
 ]
}