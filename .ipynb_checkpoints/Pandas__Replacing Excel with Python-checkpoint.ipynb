{
 "metadata": {
  "name": ""
 },
 "nbformat": 3,
 "nbformat_minor": 0,
 "worksheets": [
  {
   "cells": [
    {
     "cell_type": "code",
     "collapsed": false,
     "input": [
      "# Series\n",
      "\n",
      "# in classic Python\n",
      "\n",
      "ser = {\n",
      "'index':[0,1,2],\n",
      "'data':[.5, .7, 1.2],\n",
      "'name':'growth' }\n",
      "\n",
      "print \"ser: \", ser\n",
      "\n",
      "import pandas as pd\n",
      "\n",
      "ser1 = pd.Series([.5, .7, 1.2], name='growth')\n",
      "\n",
      "print \"ser1:\"\n",
      "print ser1\n",
      "\n",
      "# Index can be other values:\n",
      "\n",
      "ser = pd.Series([.5, .7, 1.2], index=['a', 'b', 'c'], name='lengths')\n",
      "\n",
      "print ser\n",
      "\n",
      "\n",
      "print ser[1]\n",
      "print \"median: \", ser.median()\n",
      "\n",
      "ser2 = ser[ser > ser.median()]\n",
      "print ser2"
     ],
     "language": "python",
     "metadata": {},
     "outputs": [
      {
       "output_type": "stream",
       "stream": "stdout",
       "text": [
        "ser:  {'index': [0, 1, 2], 'data': [0.5, 0.7, 1.2], 'name': 'growth'}\n",
        "ser1:\n",
        "0    0.5\n",
        "1    0.7\n",
        "2    1.2\n",
        "Name: growth, dtype: float64\n",
        "a    0.5\n",
        "b    0.7\n",
        "c    1.2\n",
        "Name: lengths, dtype: float64\n",
        "0.7\n",
        "median:  0.7\n",
        "c    1.2\n",
        "Name: lengths, dtype: float64\n"
       ]
      }
     ],
     "prompt_number": 15
    },
    {
     "cell_type": "code",
     "collapsed": false,
     "input": [
      "# dataframes\n",
      "\n",
      "# list of columns as series\n",
      "\n",
      "df = pd.DataFrame({'fname': list('ABCDEF'),\n",
      "                   'lname': list('MNOPQR'),\n",
      "                   'test1': range(80,85) + [None],\n",
      "                   'test2': range(80,92,2)})\n",
      "\n",
      "print df.describe()\n",
      "print \"  \"\n",
      "print df"
     ],
     "language": "python",
     "metadata": {},
     "outputs": [
      {
       "output_type": "stream",
       "stream": "stdout",
       "text": [
        "           test1      test2\n",
        "count   5.000000   6.000000\n",
        "mean   82.000000  85.000000\n",
        "std     1.581139   3.741657\n",
        "min    80.000000  80.000000\n",
        "25%    81.000000  82.500000\n",
        "50%    82.000000  85.000000\n",
        "75%    83.000000  87.500000\n",
        "max    84.000000  90.000000\n",
        "  \n",
        "  fname lname  test1  test2\n",
        "0     A     M     80     80\n",
        "1     B     N     81     82\n",
        "2     C     O     82     84\n",
        "3     D     P     83     86\n",
        "4     E     Q     84     88\n",
        "5     F     R    NaN     90\n"
       ]
      }
     ],
     "prompt_number": 21
    },
    {
     "cell_type": "code",
     "collapsed": false,
     "input": [
      "print df.test1  # prints a single column  or df['test1']"
     ],
     "language": "python",
     "metadata": {},
     "outputs": [
      {
       "output_type": "stream",
       "stream": "stdout",
       "text": [
        "0    80\n",
        "1    81\n",
        "2    82\n",
        "3    83\n",
        "4    84\n",
        "5   NaN\n",
        "Name: test1, dtype: float64\n"
       ]
      }
     ],
     "prompt_number": 22
    },
    {
     "cell_type": "code",
     "collapsed": false,
     "input": [
      "print df.test1.median()\n",
      "\n",
      "df.test1.corr(df.test2)"
     ],
     "language": "python",
     "metadata": {},
     "outputs": [
      {
       "output_type": "stream",
       "stream": "stdout",
       "text": [
        "82.0\n"
       ]
      },
      {
       "metadata": {},
       "output_type": "pyout",
       "prompt_number": 24,
       "text": [
        "1.0"
       ]
      }
     ],
     "prompt_number": 24
    },
    {
     "cell_type": "code",
     "collapsed": false,
     "input": [
      "# to concatenate use pd.concat()  and just add a new dataframe all specified the same way\n",
      "# note that pandas df's are generally immutable\n",
      "\n",
      "#df = pd.concat(df, df1)\n",
      "\n",
      "# add column\n",
      "\n",
      "df['test3'] = 0\n",
      "\n",
      "df\n"
     ],
     "language": "python",
     "metadata": {},
     "outputs": [
      {
       "html": [
        "<div style=\"max-height:1000px;max-width:1500px;overflow:auto;\">\n",
        "<table border=\"1\" class=\"dataframe\">\n",
        "  <thead>\n",
        "    <tr style=\"text-align: right;\">\n",
        "      <th></th>\n",
        "      <th>fname</th>\n",
        "      <th>lname</th>\n",
        "      <th>test1</th>\n",
        "      <th>test2</th>\n",
        "      <th>test3</th>\n",
        "    </tr>\n",
        "  </thead>\n",
        "  <tbody>\n",
        "    <tr>\n",
        "      <th>0</th>\n",
        "      <td> A</td>\n",
        "      <td> M</td>\n",
        "      <td> 80</td>\n",
        "      <td> 80</td>\n",
        "      <td> 0</td>\n",
        "    </tr>\n",
        "    <tr>\n",
        "      <th>1</th>\n",
        "      <td> B</td>\n",
        "      <td> N</td>\n",
        "      <td> 81</td>\n",
        "      <td> 82</td>\n",
        "      <td> 0</td>\n",
        "    </tr>\n",
        "    <tr>\n",
        "      <th>2</th>\n",
        "      <td> C</td>\n",
        "      <td> O</td>\n",
        "      <td> 82</td>\n",
        "      <td> 84</td>\n",
        "      <td> 0</td>\n",
        "    </tr>\n",
        "    <tr>\n",
        "      <th>3</th>\n",
        "      <td> D</td>\n",
        "      <td> P</td>\n",
        "      <td> 83</td>\n",
        "      <td> 86</td>\n",
        "      <td> 0</td>\n",
        "    </tr>\n",
        "    <tr>\n",
        "      <th>4</th>\n",
        "      <td> E</td>\n",
        "      <td> Q</td>\n",
        "      <td> 84</td>\n",
        "      <td> 88</td>\n",
        "      <td> 0</td>\n",
        "    </tr>\n",
        "    <tr>\n",
        "      <th>5</th>\n",
        "      <td> F</td>\n",
        "      <td> R</td>\n",
        "      <td>NaN</td>\n",
        "      <td> 90</td>\n",
        "      <td> 0</td>\n",
        "    </tr>\n",
        "  </tbody>\n",
        "</table>\n",
        "</div>"
       ],
       "metadata": {},
       "output_type": "pyout",
       "prompt_number": 25,
       "text": [
        "  fname lname  test1  test2  test3\n",
        "0     A     M     80     80      0\n",
        "1     B     N     81     82      0\n",
        "2     C     O     82     84      0\n",
        "3     D     P     83     86      0\n",
        "4     E     Q     84     88      0\n",
        "5     F     R    NaN     90      0"
       ]
      }
     ],
     "prompt_number": 25
    },
    {
     "cell_type": "code",
     "collapsed": false,
     "input": [
      "#  Add column with function apply (function and axis)\n",
      "#axis 0 is down\n",
      "#axis 1 is across\n",
      "\n",
      "# remove a column with pop() or del\n",
      "# del df['test3']\n",
      "\n",
      "# sort by last name\n",
      "\n",
      "df1 = df.sort('lname', ascending = False)  # not in place\n",
      "\n",
      "df1\n"
     ],
     "language": "python",
     "metadata": {},
     "outputs": [
      {
       "html": [
        "<div style=\"max-height:1000px;max-width:1500px;overflow:auto;\">\n",
        "<table border=\"1\" class=\"dataframe\">\n",
        "  <thead>\n",
        "    <tr style=\"text-align: right;\">\n",
        "      <th></th>\n",
        "      <th>fname</th>\n",
        "      <th>lname</th>\n",
        "      <th>test1</th>\n",
        "      <th>test2</th>\n",
        "      <th>test3</th>\n",
        "    </tr>\n",
        "  </thead>\n",
        "  <tbody>\n",
        "    <tr>\n",
        "      <th>5</th>\n",
        "      <td> F</td>\n",
        "      <td> R</td>\n",
        "      <td>NaN</td>\n",
        "      <td> 90</td>\n",
        "      <td> 0</td>\n",
        "    </tr>\n",
        "    <tr>\n",
        "      <th>4</th>\n",
        "      <td> E</td>\n",
        "      <td> Q</td>\n",
        "      <td> 84</td>\n",
        "      <td> 88</td>\n",
        "      <td> 0</td>\n",
        "    </tr>\n",
        "    <tr>\n",
        "      <th>3</th>\n",
        "      <td> D</td>\n",
        "      <td> P</td>\n",
        "      <td> 83</td>\n",
        "      <td> 86</td>\n",
        "      <td> 0</td>\n",
        "    </tr>\n",
        "    <tr>\n",
        "      <th>2</th>\n",
        "      <td> C</td>\n",
        "      <td> O</td>\n",
        "      <td> 82</td>\n",
        "      <td> 84</td>\n",
        "      <td> 0</td>\n",
        "    </tr>\n",
        "    <tr>\n",
        "      <th>1</th>\n",
        "      <td> B</td>\n",
        "      <td> N</td>\n",
        "      <td> 81</td>\n",
        "      <td> 82</td>\n",
        "      <td> 0</td>\n",
        "    </tr>\n",
        "    <tr>\n",
        "      <th>0</th>\n",
        "      <td> A</td>\n",
        "      <td> M</td>\n",
        "      <td> 80</td>\n",
        "      <td> 80</td>\n",
        "      <td> 0</td>\n",
        "    </tr>\n",
        "  </tbody>\n",
        "</table>\n",
        "</div>"
       ],
       "metadata": {},
       "output_type": "pyout",
       "prompt_number": 27,
       "text": [
        "  fname lname  test1  test2  test3\n",
        "5     F     R    NaN     90      0\n",
        "4     E     Q     84     88      0\n",
        "3     D     P     83     86      0\n",
        "2     C     O     82     84      0\n",
        "1     B     N     81     82      0\n",
        "0     A     M     80     80      0"
       ]
      }
     ],
     "prompt_number": 27
    },
    {
     "cell_type": "code",
     "collapsed": false,
     "input": [
      "# df.setvalue  *will* update data in place\n",
      "\n",
      "# filtering\n",
      "\n",
      "type(df['test1'])\n",
      "type(df[['test1']])"
     ],
     "language": "python",
     "metadata": {},
     "outputs": [
      {
       "metadata": {},
       "output_type": "pyout",
       "prompt_number": 29,
       "text": [
        "pandas.core.frame.DataFrame"
       ]
      }
     ],
     "prompt_number": 29
    },
    {
     "cell_type": "code",
     "collapsed": false,
     "input": [
      "mask = df.test2>85\n",
      "\n",
      "print mask\n"
     ],
     "language": "python",
     "metadata": {},
     "outputs": [
      {
       "output_type": "stream",
       "stream": "stdout",
       "text": [
        "0    False\n",
        "1    False\n",
        "2    False\n",
        "3     True\n",
        "4     True\n",
        "5     True\n",
        "Name: test2, dtype: bool\n"
       ]
      }
     ],
     "prompt_number": 30
    },
    {
     "cell_type": "code",
     "collapsed": false,
     "input": [],
     "language": "python",
     "metadata": {},
     "outputs": []
    }
   ],
   "metadata": {}
  }
 ]
}