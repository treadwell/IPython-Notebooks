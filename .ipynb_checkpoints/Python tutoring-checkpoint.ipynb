{
 "metadata": {
  "name": ""
 },
 "nbformat": 3,
 "nbformat_minor": 0,
 "worksheets": [
  {
   "cells": [
    {
     "cell_type": "code",
     "collapsed": false,
     "input": [
      "import copy\n",
      "\n",
      "myfuns = []\n",
      "myfun2s = []\n",
      "\n",
      "counter = []\n",
      "\n",
      "for i in xrange(5):\n",
      "    counter.append('anything')\n",
      "    def myfun():\n",
      "        return len(counter)\n",
      "    myfuns.append(myfun)\n",
      "    def myfun2():\n",
      "        return len(list(counter))  # copy of counter\n",
      "    myfun2s.append(myfun2)\n",
      "    \n",
      "print counter, len(counter), len(list(counter))\n",
      "\n",
      "for f in myfuns:\n",
      "   print f()\n",
      "\n",
      "for f in myfun2s:\n",
      "   print f()\n",
      "    \n",
      "for f in myfun3s:\n",
      "    print f()\n",
      "    \n",
      "# I don't think this demonstrates anything..."
     ],
     "language": "python",
     "metadata": {},
     "outputs": [
      {
       "output_type": "stream",
       "stream": "stdout",
       "text": [
        "['anything', 'anything', 'anything', 'anything', 'anything'] 5 5\n",
        "5\n",
        "5\n",
        "5\n",
        "5\n",
        "5\n",
        "5\n",
        "5\n",
        "5\n",
        "5\n",
        "5\n",
        "5\n",
        "5\n",
        "5\n",
        "5\n",
        "5\n"
       ]
      }
     ],
     "prompt_number": 19
    },
    {
     "cell_type": "code",
     "collapsed": false,
     "input": [
      "# Objective: build a list of functions that will return\n",
      "#    the sequential associated values in any named list.\n",
      "#    Then use the same approach to perform a calculation\n",
      "#    on that value.\n",
      "\n",
      "test_list = [10, 11, 13, 13, 14, 15, 16]\n",
      "\n",
      "# first build a function that will return the ith value of a list\n",
      "\n",
      "def f(any_list, i):\n",
      "    return any_list[i]\n",
      "\n",
      "print f(test_list, 2)\n",
      "\n",
      "# then build it so that you don't have to feed it the name of the list\n",
      "\n",
      "def f(i):\n",
      "    # returns a value, not a function\n",
      "    return i\n",
      "\n",
      "# return a function\n",
      "\n",
      "def g(i):\n",
      "    def h(i):\n",
      "        return \n",
      "    return \n",
      "\n",
      "# can do it with lambda, too:\n",
      "\n",
      "\n",
      "\n",
      "\n",
      "# Now build a list of functions that each calculate a separate ith position from 0 to j"
     ],
     "language": "python",
     "metadata": {},
     "outputs": [
      {
       "output_type": "stream",
       "stream": "stdout",
       "text": [
        "13\n",
        "13\n"
       ]
      }
     ],
     "prompt_number": 9
    },
    {
     "cell_type": "code",
     "collapsed": false,
     "input": [
      "test_list = [10, 11, 13, 13, 14, 15, 16]\n",
      "\n",
      "my_functions = []\n",
      "\n",
      "for i in xrange(5):\n",
      "    def c(i):\n",
      "        def inner_c():\n",
      "            return i\n",
      "        return inner_c\n",
      "    my_functions.append(c(i))\n",
      "    \n",
      "print \"My functions with inner function:\"\n",
      "print my_functions\n",
      "print test_list[my_functions[0]()]\n",
      "print my_functions[1]()\n",
      "print my_functions[2]()\n",
      "print my_functions[3]()\n",
      "print my_functions[4]()\n",
      "    \n",
      "# now try it with no inner function to reset i and again with \"copy\" or \"list\" or something else that kills the reference\n",
      "\n",
      "my_functions2 = []\n",
      "for i in xrange(5):\n",
      "    def c(i):\n",
      "        return lambda i:i\n",
      "    my_functions2.append(c(i))\n",
      "    \n",
      "#print my_functions2\n",
      "#print my_functions2[0]()\n",
      "#print my_functions2[1]()\n",
      "#print my_functions2[2]()\n",
      "#print my_functions2[3]()\n",
      "#print my_functions2[4]()"
     ],
     "language": "python",
     "metadata": {},
     "outputs": []
    },
    {
     "cell_type": "code",
     "collapsed": false,
     "input": [
      "def square_root(x): return math.sqrt(x)"
     ],
     "language": "python",
     "metadata": {},
     "outputs": [],
     "prompt_number": 5
    },
    {
     "cell_type": "code",
     "collapsed": false,
     "input": [
      "import math\n",
      "square_root = lambda x: math.sqrt(x)\n",
      "\n",
      "print square_root(4)"
     ],
     "language": "python",
     "metadata": {},
     "outputs": [
      {
       "output_type": "stream",
       "stream": "stdout",
       "text": [
        "2.0\n"
       ]
      }
     ],
     "prompt_number": 21
    },
    {
     "cell_type": "code",
     "collapsed": false,
     "input": [
      "demand = [1,2,3,4,5,6,7,8,9,10]\n",
      "print demand[2:]\n",
      "print demand[2:8]\n"
     ],
     "language": "python",
     "metadata": {},
     "outputs": [
      {
       "output_type": "stream",
       "stream": "stdout",
       "text": [
        "[3, 4, 5, 6, 7, 8, 9, 10]\n"
       ]
      }
     ],
     "prompt_number": 1
    },
    {
     "cell_type": "code",
     "collapsed": false,
     "input": [
      "    new = []\n",
      "    old = [1, 2, 3, 4]\n",
      "    i = 0\n",
      "    while i <= len(old):\n",
      "        i += 1\n",
      "        new.append(old[i])\n",
      "\n",
      "\n",
      "\n",
      "    for i in range(len(x)): #!!!!\n",
      "        print x[i]*i\n",
      "\n",
      "    i = 0\n",
      "    for element in x:\n",
      "        element * i\n",
      "        i += 1\n",
      "\n",
      "    (a, b) = (2, 3)\n",
      "\n",
      "    q = (1, 3, 5, 7)\n",
      "    r = (2, 4, 6, 8)\n",
      "    \n",
      "\n",
      "    for a, b in zip(q, r):\n",
      "        print a + b\n",
      "    \n",
      "    for (a, b) in [(1, 2), (3, 4)]:\n",
      "        print a + b"
     ],
     "language": "python",
     "metadata": {},
     "outputs": []
    },
    {
     "cell_type": "code",
     "collapsed": false,
     "input": [
      "##############################    \n",
      "    count = [3*i for i in range(len(x))]\n",
      "\n",
      "    for i, element in zip(count, x):\n",
      "        print element * i\n",
      "    \n",
      "    for i, element in enumerate(x):\n",
      "        print element * (3*i)\n",
      "\n",
      "# google \"python idioms\"\n",
      "        \n",
      "##############################    \n",
      "\n",
      "a = [5]\n",
      "print a + a + a\n",
      "print a*3"
     ],
     "language": "python",
     "metadata": {},
     "outputs": []
    },
    {
     "cell_type": "code",
     "collapsed": false,
     "input": [
      "# Multiply two vectors element wise using zip and list comprehension:\n",
      "\n",
      "A = [1, 2, 3, 4]\n",
      "B = [5, 6, 7, 8]\n",
      "\n",
      "AXB = [a*b for a, b in zip(A, B)]\n",
      "\n",
      "print AXB"
     ],
     "language": "python",
     "metadata": {},
     "outputs": [
      {
       "output_type": "stream",
       "stream": "stdout",
       "text": [
        "[5, 12, 21, 32]\n"
       ]
      }
     ],
     "prompt_number": 2
    },
    {
     "cell_type": "code",
     "collapsed": false,
     "input": [
      "# Questions\n",
      "# 1. any way to do a cumulative sum w list comprehension?"
     ],
     "language": "python",
     "metadata": {},
     "outputs": []
    },
    {
     "cell_type": "code",
     "collapsed": false,
     "input": [
      "# from itertools import accumulate  # python 3...\n",
      "# look up itertools for 2.7\n",
      "\n",
      "lis=[4,6,12]\n",
      "\n",
      "#list(accumulate(lis))\n",
      "#[4, 10, 22]\n",
      "\n",
      "lissum = [sum(lis[:i+1]) for i in xrange(len(lis))]\n",
      "# do this with enumerate?\n",
      "\n",
      "\n",
      "print lissum"
     ],
     "language": "python",
     "metadata": {},
     "outputs": [
      {
       "output_type": "stream",
       "stream": "stdout",
       "text": [
        "[4, 10, 22]\n"
       ]
      }
     ],
     "prompt_number": 8
    },
    {
     "cell_type": "heading",
     "level": 1,
     "metadata": {},
     "source": [
      "Function Composition"
     ]
    },
    {
     "cell_type": "code",
     "collapsed": false,
     "input": [
      "def f(x, y):\n",
      "    return x + y\n",
      "\n",
      "print f(2, 3)\n",
      "#     5\n",
      "\n",
      "#     def f(x):\n",
      "#         # x = 2\n",
      "# #        g = lambda y: x + y\n",
      "# #        return g\n",
      "\n",
      "#         def inner_func(y):\n",
      "#             return x + y\n",
      "#         g = inner_func\n",
      "#         return g\n",
      "\n",
      "#     f(2)\n",
      "#        def g(y):\n",
      "#            return 2 + y\n",
      "#        return g\n",
      "\n",
      "#     intermediate_fn = f(2)\n",
      "\n",
      "#     f(2)(3)\n",
      "#     5"
     ],
     "language": "python",
     "metadata": {},
     "outputs": [
      {
       "output_type": "stream",
       "stream": "stdout",
       "text": [
        "5\n"
       ]
      }
     ],
     "prompt_number": 22
    },
    {
     "cell_type": "code",
     "collapsed": false,
     "input": [],
     "language": "python",
     "metadata": {},
     "outputs": []
    }
   ],
   "metadata": {}
  }
 ]
}