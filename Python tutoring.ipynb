{
 "metadata": {
  "name": "Python tutoring"
 },
 "nbformat": 3,
 "nbformat_minor": 0,
 "worksheets": [
  {
   "cells": [
    {
     "cell_type": "code",
     "collapsed": false,
     "input": [
      "def square_root(x): return math.sqrt(x)"
     ],
     "language": "python",
     "metadata": {},
     "outputs": []
    },
    {
     "cell_type": "code",
     "collapsed": false,
     "input": [
      "square_root = lambda x: math.sqrt(x)"
     ],
     "language": "python",
     "metadata": {},
     "outputs": []
    },
    {
     "cell_type": "code",
     "collapsed": false,
     "input": [
      "demand = [1,2,3,4,5,6,7,8,9,10]\n",
      "print demand[2:]\n",
      "print demand[2:8]\n"
     ],
     "language": "python",
     "metadata": {},
     "outputs": [
      {
       "output_type": "stream",
       "stream": "stdout",
       "text": [
        "[3, 4, 5, 6, 7, 8, 9, 10]\n"
       ]
      }
     ],
     "prompt_number": 1
    },
    {
     "cell_type": "code",
     "collapsed": false,
     "input": [
      "    new = []\n",
      "    old = [1, 2, 3, 4]\n",
      "    i = 0\n",
      "    while i <= len(old):\n",
      "        i += 1\n",
      "        new.append(old[i])\n",
      "\n",
      "\n",
      "\n",
      "    for i in range(len(x)): #!!!!\n",
      "        print x[i]*i\n",
      "\n",
      "    i = 0\n",
      "    for element in x:\n",
      "        element * i\n",
      "        i += 1\n",
      "\n",
      "    (a, b) = (2, 3)\n",
      "\n",
      "    q = (1, 3, 5, 7)\n",
      "    r = (2, 4, 6, 8)\n",
      "    \n",
      "\n",
      "    for a, b in zip(q, r):\n",
      "        print a + b\n",
      "    \n",
      "    for (a, b) in [(1, 2), (3, 4)]:\n",
      "        print a + b"
     ],
     "language": "python",
     "metadata": {},
     "outputs": []
    },
    {
     "cell_type": "code",
     "collapsed": false,
     "input": [
      "##############################    \n",
      "    count = [3*i for i in range(len(x))]\n",
      "\n",
      "    for i, element in zip(count, x):\n",
      "        print element * i\n",
      "    \n",
      "    for i, element in enumerate(x):\n",
      "        print element * (3*i)\n",
      "\n",
      "# google \"python idioms\"\n",
      "        \n",
      "##############################    \n",
      "\n",
      "a = [5]\n",
      "print a + a + a\n",
      "print a*3"
     ],
     "language": "python",
     "metadata": {},
     "outputs": []
    },
    {
     "cell_type": "code",
     "collapsed": false,
     "input": [
      "# Multiply two vectors element wise using zip and list comprehension:\n",
      "\n",
      "A = [1, 2, 3, 4]\n",
      "B = [5, 6, 7, 8]\n",
      "\n",
      "AXB = [a*b for a, b in zip(A, B)]\n",
      "\n",
      "print AXB"
     ],
     "language": "python",
     "metadata": {},
     "outputs": [
      {
       "output_type": "stream",
       "stream": "stdout",
       "text": [
        "[5, 12, 21, 32]\n"
       ]
      }
     ],
     "prompt_number": 2
    },
    {
     "cell_type": "code",
     "collapsed": false,
     "input": [
      "# Questions\n",
      "# 1. any way to do a cumulative sum w list comprehension?"
     ],
     "language": "python",
     "metadata": {},
     "outputs": []
    },
    {
     "cell_type": "code",
     "collapsed": false,
     "input": [
      "# from itertools import accumulate  # python 3...\n",
      "# look up itertools for 2.7\n",
      "\n",
      "lis=[4,6,12]\n",
      "\n",
      "#list(accumulate(lis))\n",
      "#[4, 10, 22]\n",
      "\n",
      "lissum = [sum(lis[:i+1]) for i in xrange(len(lis))]\n",
      "# do this with enumerate?\n",
      "\n",
      "\n",
      "print lissum"
     ],
     "language": "python",
     "metadata": {},
     "outputs": [
      {
       "output_type": "stream",
       "stream": "stdout",
       "text": [
        "[4, 10, 22]\n"
       ]
      }
     ],
     "prompt_number": 8
    },
    {
     "cell_type": "code",
     "collapsed": false,
     "input": [],
     "language": "python",
     "metadata": {},
     "outputs": []
    }
   ],
   "metadata": {}
  }
 ]
}